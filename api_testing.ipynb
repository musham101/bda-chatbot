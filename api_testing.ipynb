{
 "cells": [
  {
   "cell_type": "code",
   "execution_count": 3,
   "id": "e1ca7403",
   "metadata": {},
   "outputs": [],
   "source": [
    "import requests"
   ]
  },
  {
   "cell_type": "code",
   "execution_count": 4,
   "id": "b610cf09",
   "metadata": {},
   "outputs": [],
   "source": [
    "BASE_URL = \"http://127.0.0.1:8000\"  # FastAPI default local server\n",
    "\n",
    "# Test data\n",
    "signup_payload = {\n",
    "    \"user_id\": \"user123\",\n",
    "    \"name\": \"John Doe\",\n",
    "    \"email\": \"john@example.com\"\n",
    "}"
   ]
  },
  {
   "cell_type": "code",
   "execution_count": 6,
   "id": "2d142f6b",
   "metadata": {},
   "outputs": [
    {
     "name": "stdout",
     "output_type": "stream",
     "text": [
      "Sign Up Response: 200 {'message': '✅ User signed up successfully.'}\n"
     ]
    }
   ],
   "source": [
    "signup_response = requests.post(f\"{BASE_URL}/signup\", json=signup_payload)\n",
    "print(\"Sign Up Response:\", signup_response.status_code, signup_response.json())"
   ]
  },
  {
   "cell_type": "code",
   "execution_count": 11,
   "id": "8ab1967d",
   "metadata": {},
   "outputs": [
    {
     "name": "stdout",
     "output_type": "stream",
     "text": [
      "Sign In Response: 200 {'message': '✅ Sign-in successful', 'session_id': '658aa891-8d24-42f4-b911-e5c7eb8d792f'}\n"
     ]
    }
   ],
   "source": [
    "signin_payload = {\n",
    "    \"user_id\": \"user123\"\n",
    "}\n",
    "\n",
    "signin_response = requests.post(f\"{BASE_URL}/signin\", json=signin_payload)\n",
    "print(\"Sign In Response:\", signin_response.status_code, signin_response.json())"
   ]
  },
  {
   "cell_type": "code",
   "execution_count": 20,
   "id": "adc14219",
   "metadata": {},
   "outputs": [
    {
     "name": "stdout",
     "output_type": "stream",
     "text": [
      "Status Code: 200\n",
      "Response JSON: {'user_id': 'user123', 'message': 'what is in the document?', 'bot_response': 'The documents contain information about a project involving Surf AI, an LLM-powered chatbot. The specific details include:\\n\\n* A description of Local LLM deployment using Ollama\\n* Team members and problem statement (not specified)\\n* Storage locations for various data types:\\n\\t+ Raw files in S3\\n\\t+ Embeddings in Chroma\\n\\t+ User chat history in DynamoDB\\n\\t+ User profile info in Amazon RDS\\n* Output: Context-aware chatbot response based on embeddings + LLM\\n* Tool & Technology Stack, including Ollama for self-hosted large language models (LLMs)\\n* Project report for BIG DATA ANALYTICS - PROJECT REPORT \\n* Details about data types and storage systems:\\n\\t+ Uploaded files in S3 due to object storage optimized for large file access\\n\\t+ User info in Amazon RDS because of relational structure suited for profile management\\n\\nFile path: Documents/tmpsaspllagl/'}\n"
     ]
    }
   ],
   "source": [
    "import requests\n",
    "\n",
    "# Configuration\n",
    "BASE_URL = \"http://127.0.0.1:8000\"\n",
    "endpoint = \"/chat\"\n",
    "file_path = \"test_files/Big Data Analytics Project - Surf AI - Report.pdf\"  # Replace with an actual file path\n",
    "\n",
    "# Prepare the data\n",
    "user_id = \"user123\"\n",
    "message = \"what is in the document?\"\n",
    "\n",
    "# Prepare the file (optional)\n",
    "files = {\n",
    "    \"file\": open(file_path, \"rb\")\n",
    "}\n",
    "\n",
    "data = {\n",
    "    \"user_id\": user_id,\n",
    "    \"message\": message\n",
    "}\n",
    "\n",
    "# Send the POST request\n",
    "response = requests.post(f\"{BASE_URL}{endpoint}\", data=data, files=files)\n",
    "\n",
    "# Print response\n",
    "print(\"Status Code:\", response.status_code)\n",
    "try:\n",
    "    print(\"Response JSON:\", response.json())\n",
    "except requests.exceptions.JSONDecodeError:\n",
    "    print(\"Non-JSON response:\", response.text)\n"
   ]
  },
  {
   "cell_type": "code",
   "execution_count": null,
   "id": "2fd60429",
   "metadata": {},
   "outputs": [],
   "source": []
  },
  {
   "cell_type": "code",
   "execution_count": null,
   "id": "36f0de78",
   "metadata": {},
   "outputs": [],
   "source": []
  },
  {
   "cell_type": "code",
   "execution_count": null,
   "id": "31c6b4c1",
   "metadata": {},
   "outputs": [],
   "source": []
  },
  {
   "cell_type": "code",
   "execution_count": null,
   "id": "7d3fda5f",
   "metadata": {},
   "outputs": [],
   "source": []
  },
  {
   "cell_type": "code",
   "execution_count": null,
   "id": "5db20c57",
   "metadata": {},
   "outputs": [],
   "source": []
  },
  {
   "cell_type": "code",
   "execution_count": null,
   "id": "9e3aa37a",
   "metadata": {},
   "outputs": [],
   "source": []
  },
  {
   "cell_type": "code",
   "execution_count": null,
   "id": "c852357b",
   "metadata": {},
   "outputs": [],
   "source": []
  }
 ],
 "metadata": {
  "kernelspec": {
   "display_name": "bda-env",
   "language": "python",
   "name": "python3"
  },
  "language_info": {
   "codemirror_mode": {
    "name": "ipython",
    "version": 3
   },
   "file_extension": ".py",
   "mimetype": "text/x-python",
   "name": "python",
   "nbconvert_exporter": "python",
   "pygments_lexer": "ipython3",
   "version": "3.10.17"
  }
 },
 "nbformat": 4,
 "nbformat_minor": 5
}
