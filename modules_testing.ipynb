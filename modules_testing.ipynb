{
 "cells": [
  {
   "cell_type": "code",
   "execution_count": 1,
   "id": "dae06dbd",
   "metadata": {},
   "outputs": [],
   "source": [
    "from modules.object_storage import ObjectStorage"
   ]
  },
  {
   "cell_type": "code",
   "execution_count": 2,
   "id": "2e672985",
   "metadata": {},
   "outputs": [],
   "source": [
    "bucket_name = \"big-data-analytics-001\""
   ]
  },
  {
   "cell_type": "code",
   "execution_count": null,
   "id": "4f04a0c4",
   "metadata": {},
   "outputs": [
    {
     "name": "stdout",
     "output_type": "stream",
     "text": [
      "✅ File 'requirements.txt' uploaded to 's3://big-data-analytics-001/folder_name/requirements.txt/requirements.txt'\n"
     ]
    }
   ],
   "source": [
    "ObjectStorage.upload_file_to_s3(bucket_name, \"folder_name\", \"requirements.txt\")"
   ]
  },
  {
   "cell_type": "code",
   "execution_count": 4,
   "id": "97e377c5",
   "metadata": {},
   "outputs": [
    {
     "name": "stdout",
     "output_type": "stream",
     "text": [
      "✅ File downloaded from 's3://big-data-analytics-001/folder_name/requirements.txt/requirements.txt' to 'x.txt'\n"
     ]
    }
   ],
   "source": [
    "ObjectStorage.download_file_from_s3(bucket_name, \"folder_name/requirements.txt/requirements.txt\", \"x.txt\")"
   ]
  },
  {
   "cell_type": "code",
   "execution_count": 3,
   "id": "4b3eba3c",
   "metadata": {},
   "outputs": [
    {
     "name": "stdout",
     "output_type": "stream",
     "text": [
      "🗑️ File 's3://big-data-analytics-001/folder_name/requirements.txt/requirements.txt' has been deleted.\n"
     ]
    }
   ],
   "source": [
    "ObjectStorage.delete_file_from_s3(bucket_name, \"folder_name/requirements.txt/requirements.txt\")"
   ]
  },
  {
   "cell_type": "code",
   "execution_count": null,
   "id": "61d64dc4",
   "metadata": {},
   "outputs": [],
   "source": []
  },
  {
   "cell_type": "code",
   "execution_count": null,
   "id": "f9428650",
   "metadata": {},
   "outputs": [],
   "source": []
  },
  {
   "cell_type": "code",
   "execution_count": null,
   "id": "3737638f",
   "metadata": {},
   "outputs": [],
   "source": []
  }
 ],
 "metadata": {
  "kernelspec": {
   "display_name": "bda-env",
   "language": "python",
   "name": "python3"
  },
  "language_info": {
   "codemirror_mode": {
    "name": "ipython",
    "version": 3
   },
   "file_extension": ".py",
   "mimetype": "text/x-python",
   "name": "python",
   "nbconvert_exporter": "python",
   "pygments_lexer": "ipython3",
   "version": "3.10.17"
  }
 },
 "nbformat": 4,
 "nbformat_minor": 5
}
