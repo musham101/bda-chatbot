{
 "cells": [
  {
   "cell_type": "code",
   "execution_count": 1,
   "id": "dae06dbd",
   "metadata": {},
   "outputs": [],
   "source": [
    "from modules.object_storage import ObjectStorage"
   ]
  },
  {
   "cell_type": "code",
   "execution_count": 2,
   "id": "2e672985",
   "metadata": {},
   "outputs": [],
   "source": [
    "bucket_name = \"big-data-analytics-001\""
   ]
  },
  {
   "cell_type": "code",
   "execution_count": null,
   "id": "4f04a0c4",
   "metadata": {},
   "outputs": [
    {
     "name": "stdout",
     "output_type": "stream",
     "text": [
      "✅ File 'requirements.txt' uploaded to 's3://big-data-analytics-001/folder_name/requirements.txt/requirements.txt'\n"
     ]
    }
   ],
   "source": [
    "ObjectStorage.upload_file_to_s3(bucket_name, \"folder_name\", \"requirements.txt\")"
   ]
  },
  {
   "cell_type": "code",
   "execution_count": 4,
   "id": "97e377c5",
   "metadata": {},
   "outputs": [
    {
     "name": "stdout",
     "output_type": "stream",
     "text": [
      "✅ File downloaded from 's3://big-data-analytics-001/folder_name/requirements.txt/requirements.txt' to 'x.txt'\n"
     ]
    }
   ],
   "source": [
    "ObjectStorage.download_file_from_s3(bucket_name, \"folder_name/requirements.txt/requirements.txt\", \"x.txt\")"
   ]
  },
  {
   "cell_type": "code",
   "execution_count": 3,
   "id": "4b3eba3c",
   "metadata": {},
   "outputs": [
    {
     "name": "stdout",
     "output_type": "stream",
     "text": [
      "🗑️ File 's3://big-data-analytics-001/folder_name/requirements.txt/requirements.txt' has been deleted.\n"
     ]
    }
   ],
   "source": [
    "ObjectStorage.delete_file_from_s3(bucket_name, \"folder_name/requirements.txt/requirements.txt\")"
   ]
  },
  {
   "cell_type": "code",
   "execution_count": 1,
   "id": "61d64dc4",
   "metadata": {},
   "outputs": [],
   "source": [
    "from modules.key_value_storage import KeyValueStorage"
   ]
  },
  {
   "cell_type": "code",
   "execution_count": 2,
   "id": "f9428650",
   "metadata": {},
   "outputs": [
    {
     "name": "stdout",
     "output_type": "stream",
     "text": [
      "Table 'ConversationLogs' already exists.\n"
     ]
    }
   ],
   "source": [
    "KeyValueStorage.create_conversation_logs_table()"
   ]
  },
  {
   "cell_type": "code",
   "execution_count": 3,
   "id": "3737638f",
   "metadata": {},
   "outputs": [
    {
     "name": "stdout",
     "output_type": "stream",
     "text": [
      "Inserted conversation log for user 'user123' at 2025-04-20T18:51:38.043010\n"
     ]
    }
   ],
   "source": [
    "KeyValueStorage.insert_conversation_log(\n",
    "    user_id=\"user123\",\n",
    "    message=\"What's the weather like?\",\n",
    "    bot_response=\"It's sunny and 75°F.\"\n",
    ")"
   ]
  },
  {
   "cell_type": "code",
   "execution_count": 4,
   "id": "bdceb0bf",
   "metadata": {},
   "outputs": [
    {
     "name": "stdout",
     "output_type": "stream",
     "text": [
      "Fetched 3 logs for user 'user123'.\n",
      "[2025-04-20T18:51:38.043010] user123: What's the weather like? -> It's sunny and 75°F.\n",
      "[2025-04-20T18:51:08.876173] user123: What's the weather like? -> It's sunny and 75°F.\n",
      "[2025-04-20T18:48:25.573092] user123: What's the weather like? -> It's sunny and 75°F.\n"
     ]
    }
   ],
   "source": [
    "logs = KeyValueStorage.fetch_conversation_logs(\"user123\", limit=5)\n",
    "\n",
    "for log in logs:\n",
    "    print(f\"[{log['Timestamp']}] {log['UserID']}: {log['Message']} -> {log['BotResponse']}\")"
   ]
  },
  {
   "cell_type": "code",
   "execution_count": 9,
   "id": "7b06e7d5",
   "metadata": {},
   "outputs": [],
   "source": [
    "from modules.relational_database_storage import RelationalDatabaseStorage"
   ]
  },
  {
   "cell_type": "code",
   "execution_count": 10,
   "id": "3050ff11",
   "metadata": {},
   "outputs": [],
   "source": [
    "db_config = {\n",
    "    'host': 'arn:aws:rds:us-east-1:676793855330:db:chatbot-db',\n",
    "    'user': 'admin',\n",
    "    'password': '12345678',\n",
    "    'database': 'chatbot-db'\n",
    "}"
   ]
  },
  {
   "cell_type": "code",
   "execution_count": 11,
   "id": "25376c81",
   "metadata": {},
   "outputs": [
    {
     "name": "stdout",
     "output_type": "stream",
     "text": [
      "❌ Failed to create database: 2005 (HY000): Unknown MySQL server host 'arn:aws:rds:us-east-1:676793855330:db:chatbot-db' (8)\n",
      "❌ Connection failed: 2005 (HY000): Unknown MySQL server host 'arn:aws:rds:us-east-1:676793855330:db:chatbot-db' (8)\n"
     ]
    }
   ],
   "source": [
    "RelationalDatabaseStorage.setup_chatbot_db(db_config)"
   ]
  },
  {
   "cell_type": "code",
   "execution_count": null,
   "id": "ad0284e0",
   "metadata": {},
   "outputs": [],
   "source": []
  }
 ],
 "metadata": {
  "kernelspec": {
   "display_name": "bda-env",
   "language": "python",
   "name": "python3"
  },
  "language_info": {
   "codemirror_mode": {
    "name": "ipython",
    "version": 3
   },
   "file_extension": ".py",
   "mimetype": "text/x-python",
   "name": "python",
   "nbconvert_exporter": "python",
   "pygments_lexer": "ipython3",
   "version": "3.10.17"
  }
 },
 "nbformat": 4,
 "nbformat_minor": 5
}
