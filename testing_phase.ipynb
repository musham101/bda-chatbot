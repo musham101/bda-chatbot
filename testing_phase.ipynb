{
 "cells": [
  {
   "cell_type": "code",
   "execution_count": 6,
   "id": "bdadc6c0",
   "metadata": {},
   "outputs": [],
   "source": [
    "from langchain_community.tools import DuckDuckGoSearchRun\n",
    "from langchain_ollama.llms import OllamaLLM"
   ]
  },
  {
   "cell_type": "code",
   "execution_count": 7,
   "id": "37aaebe2",
   "metadata": {},
   "outputs": [],
   "source": [
    "llm = OllamaLLM(model=\"llama3.1\")"
   ]
  },
  {
   "cell_type": "code",
   "execution_count": 8,
   "id": "934e1d2c",
   "metadata": {},
   "outputs": [],
   "source": [
    "search = DuckDuckGoSearchRun()"
   ]
  },
  {
   "cell_type": "code",
   "execution_count": 12,
   "id": "efb8e114",
   "metadata": {},
   "outputs": [
    {
     "name": "stdout",
     "output_type": "stream",
     "text": [
      "Islamabad, city, capital of Pakistan, on the Potwar Plateau, 9 miles (14 km) northeast of Rawalpindi, the former interim capital. The city's site was chosen in 1959 after Karachi was found unsuitable as the capital. Construction aimed to blend traditional Islamic architecture with modern patterns and requirements. Pakistan is a populous multiethnic country of South Asia. With a predominately Indo-Iranian speaking population, Pakistan has historically and culturally been associated with its neighbors Iran, Afghanistan, and India. ... (\"Free Kashmir\") region—which Pakistan nonetheless considers an independent state, with its capital at Muzaffarabad ... Learn about the history and reasons behind the relocation of the capital of Pakistan from Karachi to Islamabad in the 1960s. Find answers to frequently asked questions about the geography, politics, and culture of Pakistan and its capital city. Learn about Islamabad, the capital city of Pakistan since 1967. Find out its history, population, language, and other facts in this comprehensive FAQ article. It is the country's tenth-most populous city with a population of over 1.1 million and is federally administered by the Pakistani government as part of the Islamabad Capital Territory. Built as a planned city in the 1960s and established in 1967, it replaced Karachi as Pakistan's national capital.\n"
     ]
    }
   ],
   "source": [
    "search_result = search.invoke(\"capital of pakistan\")\n",
    "print(search_result)"
   ]
  },
  {
   "cell_type": "code",
   "execution_count": null,
   "id": "95b275e5",
   "metadata": {},
   "outputs": [
    {
     "name": "stdout",
     "output_type": "stream",
     "text": [
      "You are an intelligent assistant that answers questions based on the provided data.\n",
      "\n",
      "Below is the data you should use:\n",
      "--------------------\n",
      "{data}\n",
      "--------------------\n",
      "\n",
      "Now answer the following user query using the above data only:\n",
      "\"{user_query}\"\n",
      "\n",
      "If the data does not contain enough information to answer the question, say:\n",
      "\"I'm sorry, I cannot answer that based on the provided data.\"\n",
      "\n",
      "Your response should be clear, accurate, and directly address the user’s question.\n",
      "There is no data provided for me to use. Please provide the data you would like me to use to answer your question. \n",
      "\n",
      "Once I have the data, I'll do my best to assist you with a clear and accurate response.\n"
     ]
    }
   ],
   "source": [
    "prompt_template = \"\"\"You are an intelligent assistant that answers questions based on the provided data.\n",
    "\n",
    "Below is the data you should use:\n",
    "--------------------\n",
    "{data}\n",
    "--------------------\n",
    "\n",
    "Now answer the following user query using the above data only:\n",
    "\"{user_query}\"\n",
    "\n",
    "If the data does not contain enough information to answer the question, say:\n",
    "\"I'm sorry, I cannot answer that based on the provided data.\"\n",
    "\n",
    "Your response should be clear, accurate, and directly address the user’s question.\"\"\"\n",
    "\n",
    "prompt = prompt_template.format(data=search_result, user_query=\"capital of pakistan\")\n",
    "\n",
    "print(prompt)\n",
    "\n",
    "response = llm.invoke(prompt)\n",
    "\n",
    "print(response)"
   ]
  },
  {
   "cell_type": "code",
   "execution_count": null,
   "id": "4a692071",
   "metadata": {},
   "outputs": [],
   "source": []
  },
  {
   "cell_type": "code",
   "execution_count": null,
   "id": "1b677d26",
   "metadata": {},
   "outputs": [],
   "source": []
  },
  {
   "cell_type": "code",
   "execution_count": null,
   "id": "77ec39bb",
   "metadata": {},
   "outputs": [],
   "source": []
  },
  {
   "cell_type": "code",
   "execution_count": null,
   "id": "9fa0c6b6",
   "metadata": {},
   "outputs": [],
   "source": []
  },
  {
   "cell_type": "code",
   "execution_count": null,
   "id": "b3ed9e5e",
   "metadata": {},
   "outputs": [],
   "source": []
  },
  {
   "cell_type": "code",
   "execution_count": null,
   "id": "d4a1161d",
   "metadata": {},
   "outputs": [],
   "source": []
  },
  {
   "cell_type": "code",
   "execution_count": null,
   "id": "4db5b5bf",
   "metadata": {},
   "outputs": [],
   "source": []
  },
  {
   "cell_type": "code",
   "execution_count": null,
   "id": "00db0f84",
   "metadata": {},
   "outputs": [],
   "source": []
  },
  {
   "cell_type": "code",
   "execution_count": null,
   "id": "5d04e6b6",
   "metadata": {},
   "outputs": [],
   "source": []
  },
  {
   "cell_type": "code",
   "execution_count": null,
   "id": "463bf55c",
   "metadata": {},
   "outputs": [],
   "source": []
  },
  {
   "cell_type": "code",
   "execution_count": null,
   "id": "267faac8",
   "metadata": {},
   "outputs": [],
   "source": []
  },
  {
   "cell_type": "code",
   "execution_count": null,
   "id": "7e09a007",
   "metadata": {},
   "outputs": [],
   "source": []
  },
  {
   "cell_type": "code",
   "execution_count": null,
   "id": "31bea719",
   "metadata": {},
   "outputs": [],
   "source": []
  }
 ],
 "metadata": {
  "kernelspec": {
   "display_name": "bda-env",
   "language": "python",
   "name": "python3"
  },
  "language_info": {
   "codemirror_mode": {
    "name": "ipython",
    "version": 3
   },
   "file_extension": ".py",
   "mimetype": "text/x-python",
   "name": "python",
   "nbconvert_exporter": "python",
   "pygments_lexer": "ipython3",
   "version": "3.10.17"
  }
 },
 "nbformat": 4,
 "nbformat_minor": 5
}
