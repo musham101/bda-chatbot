{
 "cells": [
  {
   "cell_type": "code",
   "execution_count": 2,
   "id": "3c580a62",
   "metadata": {},
   "outputs": [],
   "source": [
    "from modules.utils import Utils\n",
    "from modules.vector_storeage import VectorStorage\n",
    "from modules.chatbot import Chatbot"
   ]
  },
  {
   "cell_type": "code",
   "execution_count": 3,
   "id": "0ee46fa4",
   "metadata": {},
   "outputs": [],
   "source": [
    "docs = Utils.get_text_from_files(\"test_files/Big Data Analytics Project - Surf AI - Report.pdf\")"
   ]
  },
  {
   "cell_type": "code",
   "execution_count": 4,
   "id": "d639ca05",
   "metadata": {},
   "outputs": [
    {
     "data": {
      "text/plain": [
       "6"
      ]
     },
     "execution_count": 4,
     "metadata": {},
     "output_type": "execute_result"
    }
   ],
   "source": [
    "len(docs)"
   ]
  },
  {
   "cell_type": "code",
   "execution_count": 5,
   "id": "8b07f1a1",
   "metadata": {},
   "outputs": [],
   "source": [
    "doc_chunks = Utils.split_text_to_chunks(docs)"
   ]
  },
  {
   "cell_type": "code",
   "execution_count": 6,
   "id": "d42494ac",
   "metadata": {},
   "outputs": [
    {
     "data": {
      "text/plain": [
       "[Document(metadata={'producer': 'www.ilovepdf.com', 'creator': 'Microsoft® Word 2016', 'creationdate': '2025-04-22T11:21:58+00:00', 'title': 'Big DATA Analytics - project report', 'author': 'Sana Ilyas/COM/LHR', 'subject': 'Surf AI (LLM Powered Chatbot)', 'moddate': '2025-04-22T11:21:59+00:00', 'source': 'test_files/Big Data Analytics Project - Surf AI - Report.pdf', 'total_pages': 6, 'page': 0, 'page_label': '1', 'file_name': 'Big Data Analytics Project - Surf AI - Report.pdf', 'created_date': '2025-04-28 21:45:57', 'modified_date': '2025-04-28 21:45:57'}, page_content=\"Document Content:\\nBIG DATA ANALYTICS - PROJECT REPORT \\nSurf AI (LLM Powered Chatbot)\\n\\nDocument Name:'Big Data Analytics Project - Surf AI - Report.pdf'\"),\n",
       " Document(metadata={'producer': 'www.ilovepdf.com', 'creator': 'Microsoft® Word 2016', 'creationdate': '2025-04-22T11:21:58+00:00', 'title': 'Big DATA Analytics - project report', 'author': 'Sana Ilyas/COM/LHR', 'subject': 'Surf AI (LLM Powered Chatbot)', 'moddate': '2025-04-22T11:21:59+00:00', 'source': 'test_files/Big Data Analytics Project - Surf AI - Report.pdf', 'total_pages': 6, 'page': 1, 'page_label': '2', 'file_name': 'Big Data Analytics Project - Surf AI - Report.pdf', 'created_date': '2025-04-28 21:45:57', 'modified_date': '2025-04-28 21:45:57'}, page_content=\"Document Content:\\nContents \\n1. Team Members ................................ ................................ ................................ ................................  2 \\n2. Problem Statement ................................ ................................ ................................ ..........................  2\\n\\nDocument Name:'Big Data Analytics Project - Surf AI - Report.pdf'\"),\n",
       " Document(metadata={'producer': 'www.ilovepdf.com', 'creator': 'Microsoft® Word 2016', 'creationdate': '2025-04-22T11:21:58+00:00', 'title': 'Big DATA Analytics - project report', 'author': 'Sana Ilyas/COM/LHR', 'subject': 'Surf AI (LLM Powered Chatbot)', 'moddate': '2025-04-22T11:21:59+00:00', 'source': 'test_files/Big Data Analytics Project - Surf AI - Report.pdf', 'total_pages': 6, 'page': 1, 'page_label': '2', 'file_name': 'Big Data Analytics Project - Surf AI - Report.pdf', 'created_date': '2025-04-28 21:45:57', 'modified_date': '2025-04-28 21:45:57'}, page_content=\"Document Content:\\n3. High-Level Architecture Diagram ................................ ................................ ................................ ...... 2 \\n4. Data Flow Pipeline ................................ ................................ ................................ ...........................  3\\n\\nDocument Name:'Big Data Analytics Project - Surf AI - Report.pdf'\"),\n",
       " Document(metadata={'producer': 'www.ilovepdf.com', 'creator': 'Microsoft® Word 2016', 'creationdate': '2025-04-22T11:21:58+00:00', 'title': 'Big DATA Analytics - project report', 'author': 'Sana Ilyas/COM/LHR', 'subject': 'Surf AI (LLM Powered Chatbot)', 'moddate': '2025-04-22T11:21:59+00:00', 'source': 'test_files/Big Data Analytics Project - Surf AI - Report.pdf', 'total_pages': 6, 'page': 1, 'page_label': '2', 'file_name': 'Big Data Analytics Project - Surf AI - Report.pdf', 'created_date': '2025-04-28 21:45:57', 'modified_date': '2025-04-28 21:45:57'}, page_content=\"Document Content:\\n5. Tool & Technology Stack ................................ ................................ ................................ ...................  4 \\n6. Storage Mapping Table ................................ ................................ ................................ ....................  4\\n\\nDocument Name:'Big Data Analytics Project - Surf AI - Report.pdf'\"),\n",
       " Document(metadata={'producer': 'www.ilovepdf.com', 'creator': 'Microsoft® Word 2016', 'creationdate': '2025-04-22T11:21:58+00:00', 'title': 'Big DATA Analytics - project report', 'author': 'Sana Ilyas/COM/LHR', 'subject': 'Surf AI (LLM Powered Chatbot)', 'moddate': '2025-04-22T11:21:59+00:00', 'source': 'test_files/Big Data Analytics Project - Surf AI - Report.pdf', 'total_pages': 6, 'page': 2, 'page_label': '3', 'file_name': 'Big Data Analytics Project - Surf AI - Report.pdf', 'created_date': '2025-04-28 21:45:57', 'modified_date': '2025-04-28 21:45:57'}, page_content=\"Document Content:\\nProject Title: Surf AI (LLM Powered Chatbot) \\n1. Team Members \\n1) Hammad Javed - MSDS24018 \\n2) Musham Ahmad Malik - MSDS24049 \\n3) Sana Ilyas - MSDS24058 \\n4) Ume Habiba - MSDS24069 \\n2. Problem Statement \\nThis project aims to build a scalable AI-powered chatbot system that handles both natural \\nlanguage queries and user-uploaded files, delivering contextual responses by leveraging a\\n\\nDocument Name:'Big Data Analytics Project - Surf AI - Report.pdf'\"),\n",
       " Document(metadata={'producer': 'www.ilovepdf.com', 'creator': 'Microsoft® Word 2016', 'creationdate': '2025-04-22T11:21:58+00:00', 'title': 'Big DATA Analytics - project report', 'author': 'Sana Ilyas/COM/LHR', 'subject': 'Surf AI (LLM Powered Chatbot)', 'moddate': '2025-04-22T11:21:59+00:00', 'source': 'test_files/Big Data Analytics Project - Surf AI - Report.pdf', 'total_pages': 6, 'page': 2, 'page_label': '3', 'file_name': 'Big Data Analytics Project - Surf AI - Report.pdf', 'created_date': '2025-04-28 21:45:57', 'modified_date': '2025-04-28 21:45:57'}, page_content=\"Document Content:\\nRetrieval-Augmented Generation (RAG) pipeline. The goal is to address the challenge of \\ncontextual understanding in chatbot interactions while supporting various data formats (text, \\nJSON, files), and to demonstrate how big data tools efficiently manage high data volume and \\nvariety. \\n3. High-Level Architecture Diagram\\n\\nDocument Name:'Big Data Analytics Project - Surf AI - Report.pdf'\"),\n",
       " Document(metadata={'producer': 'www.ilovepdf.com', 'creator': 'Microsoft® Word 2016', 'creationdate': '2025-04-22T11:21:58+00:00', 'title': 'Big DATA Analytics - project report', 'author': 'Sana Ilyas/COM/LHR', 'subject': 'Surf AI (LLM Powered Chatbot)', 'moddate': '2025-04-22T11:21:59+00:00', 'source': 'test_files/Big Data Analytics Project - Surf AI - Report.pdf', 'total_pages': 6, 'page': 2, 'page_label': '3', 'file_name': 'Big Data Analytics Project - Surf AI - Report.pdf', 'created_date': '2025-04-28 21:45:57', 'modified_date': '2025-04-28 21:45:57'}, page_content=\"Document Content:\\nThe system includes components for user input (query and file), a chatbot for processing, and \\ndistributed storage using DynamoDB (Key-Value), Chroma (Vector DB), Amazon S3 \\n(Object Store), and Amazon RDS (Relational DB). Following is the high-level architecture \\ndiagram of the system: \\n \\nFigure 1: High-Level Architecture Diagram for Chatbot\\n\\nDocument Name:'Big Data Analytics Project - Surf AI - Report.pdf'\"),\n",
       " Document(metadata={'producer': 'www.ilovepdf.com', 'creator': 'Microsoft® Word 2016', 'creationdate': '2025-04-22T11:21:58+00:00', 'title': 'Big DATA Analytics - project report', 'author': 'Sana Ilyas/COM/LHR', 'subject': 'Surf AI (LLM Powered Chatbot)', 'moddate': '2025-04-22T11:21:59+00:00', 'source': 'test_files/Big Data Analytics Project - Surf AI - Report.pdf', 'total_pages': 6, 'page': 3, 'page_label': '4', 'file_name': 'Big Data Analytics Project - Surf AI - Report.pdf', 'created_date': '2025-04-28 21:45:57', 'modified_date': '2025-04-28 21:45:57'}, page_content=\"Document Content:\\n4. Data Flow Pipeline \\nFollowing is the data flow diagram for the data flow diagram for chatbot pipeline: \\n \\nFigure 2: Data Flow Diagram for Chatbot Pipeline \\n1. Inputs: \\n\\uf0b7 User query (text) \\n\\uf0b7 Uploaded file (PDF, image, etc.) \\n\\uf0b7 Search API (external content) \\n2. Ingestion: \\n\\uf0b7 Real-time for chat \\n\\uf0b7 Batch for file processing and embedding \\n3. Processing: \\n\\uf0b7 RAG pipeline using LangChain\\n\\nDocument Name:'Big Data Analytics Project - Surf AI - Report.pdf'\"),\n",
       " Document(metadata={'producer': 'www.ilovepdf.com', 'creator': 'Microsoft® Word 2016', 'creationdate': '2025-04-22T11:21:58+00:00', 'title': 'Big DATA Analytics - project report', 'author': 'Sana Ilyas/COM/LHR', 'subject': 'Surf AI (LLM Powered Chatbot)', 'moddate': '2025-04-22T11:21:59+00:00', 'source': 'test_files/Big Data Analytics Project - Surf AI - Report.pdf', 'total_pages': 6, 'page': 3, 'page_label': '4', 'file_name': 'Big Data Analytics Project - Surf AI - Report.pdf', 'created_date': '2025-04-28 21:45:57', 'modified_date': '2025-04-28 21:45:57'}, page_content=\"Document Content:\\n\\uf0b7 Local LLM deployment using Ollama\\n\\nDocument Name:'Big Data Analytics Project - Surf AI - Report.pdf'\"),\n",
       " Document(metadata={'producer': 'www.ilovepdf.com', 'creator': 'Microsoft® Word 2016', 'creationdate': '2025-04-22T11:21:58+00:00', 'title': 'Big DATA Analytics - project report', 'author': 'Sana Ilyas/COM/LHR', 'subject': 'Surf AI (LLM Powered Chatbot)', 'moddate': '2025-04-22T11:21:59+00:00', 'source': 'test_files/Big Data Analytics Project - Surf AI - Report.pdf', 'total_pages': 6, 'page': 4, 'page_label': '5', 'file_name': 'Big Data Analytics Project - Surf AI - Report.pdf', 'created_date': '2025-04-28 21:45:57', 'modified_date': '2025-04-28 21:45:57'}, page_content=\"Document Content:\\n4. Storage: \\n\\uf0b7 Raw files → S3 \\n\\uf0b7 Embeddings → Chroma \\n\\uf0b7 User chat history → DynamoDB \\n\\uf0b7 User profile info → Amazon RDS \\n5. Output: \\n\\uf0b7 Context-aware chatbot response based on embeddings + LLM \\n5. Tool & Technology Stack \\n \\nTool/Tech Purpose Justification \\nOllama Self-hosted large language \\nmodels (LLMs) Private and customizable inference layer\\n\\nDocument Name:'Big Data Analytics Project - Surf AI - Report.pdf'\"),\n",
       " Document(metadata={'producer': 'www.ilovepdf.com', 'creator': 'Microsoft® Word 2016', 'creationdate': '2025-04-22T11:21:58+00:00', 'title': 'Big DATA Analytics - project report', 'author': 'Sana Ilyas/COM/LHR', 'subject': 'Surf AI (LLM Powered Chatbot)', 'moddate': '2025-04-22T11:21:59+00:00', 'source': 'test_files/Big Data Analytics Project - Surf AI - Report.pdf', 'total_pages': 6, 'page': 4, 'page_label': '5', 'file_name': 'Big Data Analytics Project - Surf AI - Report.pdf', 'created_date': '2025-04-28 21:45:57', 'modified_date': '2025-04-28 21:45:57'}, page_content=\"Document Content:\\nLangChain Building RAG pipeline Integrates LLMs with context from \\nexternal sources \\nAmazon S3 Object storage for uploaded \\nfiles Reliable, scalable, and fast retrieval \\nChroma V ector DB for file/query \\nembeddings Efficient semantic similarity search \\nDynamoDB NoSQL DB for chat history Scalable, fast key-value access for chat \\nlogs\\n\\nDocument Name:'Big Data Analytics Project - Surf AI - Report.pdf'\"),\n",
       " Document(metadata={'producer': 'www.ilovepdf.com', 'creator': 'Microsoft® Word 2016', 'creationdate': '2025-04-22T11:21:58+00:00', 'title': 'Big DATA Analytics - project report', 'author': 'Sana Ilyas/COM/LHR', 'subject': 'Surf AI (LLM Powered Chatbot)', 'moddate': '2025-04-22T11:21:59+00:00', 'source': 'test_files/Big Data Analytics Project - Surf AI - Report.pdf', 'total_pages': 6, 'page': 4, 'page_label': '5', 'file_name': 'Big Data Analytics Project - Surf AI - Report.pdf', 'created_date': '2025-04-28 21:45:57', 'modified_date': '2025-04-28 21:45:57'}, page_content=\"Document Content:\\nlogs \\nAmazon RDS SQL DB for user profiles Supports structured user metadata and \\nrelational queries \\n6. Storage Mapping Table \\n \\nData Type Format Storage System Reason \\nUser queries & \\nresponses Structured (text) DynamoDB Fast key-value access and \\nscalability \\nUploaded file \\nembeddings V ectors (numeric) Chroma V ector-based semantic search \\nfor retrieval\\n\\nDocument Name:'Big Data Analytics Project - Surf AI - Report.pdf'\"),\n",
       " Document(metadata={'producer': 'www.ilovepdf.com', 'creator': 'Microsoft® Word 2016', 'creationdate': '2025-04-22T11:21:58+00:00', 'title': 'Big DATA Analytics - project report', 'author': 'Sana Ilyas/COM/LHR', 'subject': 'Surf AI (LLM Powered Chatbot)', 'moddate': '2025-04-22T11:21:59+00:00', 'source': 'test_files/Big Data Analytics Project - Surf AI - Report.pdf', 'total_pages': 6, 'page': 5, 'page_label': '6', 'file_name': 'Big Data Analytics Project - Surf AI - Report.pdf', 'created_date': '2025-04-28 21:45:57', 'modified_date': '2025-04-28 21:45:57'}, page_content=\"Document Content:\\nData Type Format Storage System Reason \\nUploaded files Unstructured \\n(PDF, etc.) S3 Object storage optimized for \\nlarge file access \\nUser info Structured (tables) Amazon RDS Relational structure suited for \\nprofile management\\n\\nDocument Name:'Big Data Analytics Project - Surf AI - Report.pdf'\")]"
      ]
     },
     "execution_count": 6,
     "metadata": {},
     "output_type": "execute_result"
    }
   ],
   "source": [
    "doc_chunks"
   ]
  },
  {
   "cell_type": "code",
   "execution_count": 7,
   "id": "13824398",
   "metadata": {},
   "outputs": [
    {
     "name": "stderr",
     "output_type": "stream",
     "text": [
      "INFO:chromadb.telemetry.product.posthog:Anonymized telemetry enabled. See                     https://docs.trychroma.com/telemetry for more information.\n"
     ]
    }
   ],
   "source": [
    "VectorStore = VectorStorage.load_vectorstore()"
   ]
  },
  {
   "cell_type": "code",
   "execution_count": 8,
   "id": "db87947e",
   "metadata": {},
   "outputs": [
    {
     "name": "stderr",
     "output_type": "stream",
     "text": [
      "INFO:httpx:HTTP Request: POST http://127.0.0.1:11434/api/embed \"HTTP/1.1 200 OK\"\n"
     ]
    },
    {
     "name": "stdout",
     "output_type": "stream",
     "text": [
      "- Inserted 10 documents to vectorstore...\n"
     ]
    },
    {
     "name": "stderr",
     "output_type": "stream",
     "text": [
      "INFO:httpx:HTTP Request: POST http://127.0.0.1:11434/api/embed \"HTTP/1.1 200 OK\"\n"
     ]
    },
    {
     "name": "stdout",
     "output_type": "stream",
     "text": [
      "- Inserted 3 documents to vectorstore...\n"
     ]
    }
   ],
   "source": [
    "vectorStore = VectorStorage.insert_chunks_to_vectordb(doc_chunks)"
   ]
  },
  {
   "cell_type": "code",
   "execution_count": 9,
   "id": "1a1d7242",
   "metadata": {},
   "outputs": [],
   "source": [
    "retriver = VectorStore.as_retriever(search_type=\"mmr\", search_kwargs={\"k\": 5, \"fetch_k\": 100})"
   ]
  },
  {
   "cell_type": "code",
   "execution_count": 10,
   "id": "185717d1",
   "metadata": {},
   "outputs": [],
   "source": [
    "# compression_retriever = VectorStorage.get_rerank_retriever(retriver)"
   ]
  },
  {
   "cell_type": "code",
   "execution_count": 11,
   "id": "33dffb81",
   "metadata": {},
   "outputs": [
    {
     "name": "stderr",
     "output_type": "stream",
     "text": [
      "INFO:httpx:HTTP Request: POST http://127.0.0.1:11434/api/embed \"HTTP/1.1 200 OK\"\n",
      "WARNING:chromadb.segment.impl.vector.local_persistent_hnsw:Number of requested results 100 is greater than number of elements in index 52, updating n_results = 52\n",
      "INFO:httpx:HTTP Request: POST http://127.0.0.1:11434/api/generate \"HTTP/1.1 200 OK\"\n"
     ]
    }
   ],
   "source": [
    "response, docs = Chatbot.rag_response(retriver, \"what is the project about?\")"
   ]
  },
  {
   "cell_type": "code",
   "execution_count": 12,
   "id": "9c5a6d6c",
   "metadata": {},
   "outputs": [
    {
     "name": "stdout",
     "output_type": "stream",
     "text": [
      "The project appears to be focused on building a Large Language Model (LLM) powered chatbot, specifically using an LLM deployment method called Ollama. The project report also mentions the integration of LLMs with external sources through a pipeline built using LangChain, which enables features such as Amazon S3 object storage for uploaded files, Chroma Vector DB for efficient semantic similarity search, and DynamoDB NoSQL database for chat history.\n",
      "\n",
      "The project's overall goal is likely related to big data analytics, leveraging the capabilities of LLMs in processing large datasets and providing insights or powering a chatbot application. \n",
      "\n",
      "Document path used: \n",
      "'Document Name:'tmpezi96g0k' & 'Big Data Analytics Project - Surf AI - Report.pdf'\n"
     ]
    }
   ],
   "source": [
    "print(response)"
   ]
  },
  {
   "cell_type": "code",
   "execution_count": 13,
   "id": "4075e6ec",
   "metadata": {},
   "outputs": [
    {
     "name": "stdout",
     "output_type": "stream",
     "text": [
      "Document Content:\n",
      "BIG DATA ANALYTICS - PROJECT REPORT \n",
      "Surf AI (LLM Powered Chatbot)\n",
      "\n",
      "Doument Name:'Big Data Analytics Project - Surf AI - Report.pdf'\n",
      "\n",
      "\n",
      "Document Content:\n",
      "LangChain Building RAG pipeline Integrates LLMs with context from \n",
      "external sources \n",
      "Amazon S3 Object storage for uploaded \n",
      "files Reliable, scalable, and fast retrieval \n",
      "Chroma V ector DB for file/query \n",
      "embeddings Efficient semantic similarity search \n",
      "DynamoDB NoSQL DB for chat history Scalable, fast key-value access for chat \n",
      "logs\n",
      "\n",
      "Doument Name:'Big Data Analytics Project - Surf AI - Report.pdf'\n",
      "\n",
      "\n",
      "Document Content:\n",
      "Project Title: Surf AI (LLM Powered Chatbot) \n",
      "1. Team Members \n",
      "1) Hammad Javed - MSDS24018 \n",
      "2) Musham Ahmad Malik - MSDS24049 \n",
      "3) Sana Ilyas - MSDS24058 \n",
      "4) Ume Habiba - MSDS24069 \n",
      "2. Problem Statement \n",
      "This project aims to build a scalable AI-powered chatbot system that handles both natural \n",
      "language queries and user-uploaded files, delivering contextual responses by leveraging a\n",
      "\n",
      "Doument Name:'Big Data Analytics Project - Surf AI - Report.pdf'\n"
     ]
    }
   ],
   "source": [
    "print(docs)"
   ]
  },
  {
   "cell_type": "code",
   "execution_count": null,
   "id": "16d7728a",
   "metadata": {},
   "outputs": [],
   "source": []
  }
 ],
 "metadata": {
  "kernelspec": {
   "display_name": "bda-env",
   "language": "python",
   "name": "python3"
  },
  "language_info": {
   "codemirror_mode": {
    "name": "ipython",
    "version": 3
   },
   "file_extension": ".py",
   "mimetype": "text/x-python",
   "name": "python",
   "nbconvert_exporter": "python",
   "pygments_lexer": "ipython3",
   "version": "3.10.17"
  }
 },
 "nbformat": 4,
 "nbformat_minor": 5
}
